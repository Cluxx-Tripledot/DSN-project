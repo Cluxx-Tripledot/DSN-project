{
 "cells": [
  {
   "cell_type": "markdown",
   "id": "a222c0dd",
   "metadata": {},
   "source": [
    "## Import libraries"
   ]
  },
  {
   "cell_type": "code",
   "execution_count": 1,
   "id": "fa2c6ab3",
   "metadata": {
    "tags": []
   },
   "outputs": [],
   "source": [
    "# this code imports libraries into the program\n",
    "import numpy as np\n",
    "import pandas as pd\n",
    "import matplotlib.pyplot as plt\n",
    "import seaborn as sns; sns.set()\n",
    "# this code ignores all error messages the table would have returned\n",
    "import warnings\n",
    "warnings.filterwarnings(\"ignore\")"
   ]
  },
  {
   "cell_type": "markdown",
   "id": "fb97a0e7",
   "metadata": {},
   "source": [
    "## Load Data"
   ]
  },
  {
   "cell_type": "code",
   "execution_count": 2,
   "id": "7201c3fe-7bb4-4c69-931f-051ba6d0d2f5",
   "metadata": {
    "tags": []
   },
   "outputs": [
    {
     "data": {
      "text/html": [
       "<div>\n",
       "<style scoped>\n",
       "    .dataframe tbody tr th:only-of-type {\n",
       "        vertical-align: middle;\n",
       "    }\n",
       "\n",
       "    .dataframe tbody tr th {\n",
       "        vertical-align: top;\n",
       "    }\n",
       "\n",
       "    .dataframe thead th {\n",
       "        text-align: right;\n",
       "    }\n",
       "</style>\n",
       "<table border=\"1\" class=\"dataframe\">\n",
       "  <thead>\n",
       "    <tr style=\"text-align: right;\">\n",
       "      <th></th>\n",
       "      <th>VehicleID</th>\n",
       "      <th>Location</th>\n",
       "      <th>Maker</th>\n",
       "      <th>Model</th>\n",
       "      <th>Year</th>\n",
       "      <th>Colour</th>\n",
       "      <th>Amount (Million Naira)</th>\n",
       "      <th>Type</th>\n",
       "      <th>Distance</th>\n",
       "    </tr>\n",
       "  </thead>\n",
       "  <tbody>\n",
       "    <tr>\n",
       "      <th>3328</th>\n",
       "      <td>VHL14620</td>\n",
       "      <td>Abuja</td>\n",
       "      <td>Lexus</td>\n",
       "      <td>RX 350</td>\n",
       "      <td>2,009</td>\n",
       "      <td>Black</td>\n",
       "      <td>5.63</td>\n",
       "      <td>Nigerian Used</td>\n",
       "      <td>80,188</td>\n",
       "    </tr>\n",
       "    <tr>\n",
       "      <th>2669</th>\n",
       "      <td>VHL18876</td>\n",
       "      <td>Abuja</td>\n",
       "      <td>Ford</td>\n",
       "      <td>Edge</td>\n",
       "      <td>2,015</td>\n",
       "      <td>Blue</td>\n",
       "      <td>9.90</td>\n",
       "      <td>Foreign Used</td>\n",
       "      <td>31,594</td>\n",
       "    </tr>\n",
       "    <tr>\n",
       "      <th>1109</th>\n",
       "      <td>VHL14966</td>\n",
       "      <td>Lagos</td>\n",
       "      <td>Mercedes-Benz</td>\n",
       "      <td>M Class ML 350 4Matic</td>\n",
       "      <td>2,011</td>\n",
       "      <td>White</td>\n",
       "      <td>6.75</td>\n",
       "      <td>Foreign Used</td>\n",
       "      <td>NaN</td>\n",
       "    </tr>\n",
       "    <tr>\n",
       "      <th>1915</th>\n",
       "      <td>VHL15126</td>\n",
       "      <td>Abuja</td>\n",
       "      <td>Toyota</td>\n",
       "      <td>Camry XSE V6 (3.5L V6 8A)</td>\n",
       "      <td>2,019</td>\n",
       "      <td>White</td>\n",
       "      <td>16.00</td>\n",
       "      <td>Foreign Used</td>\n",
       "      <td>NaN</td>\n",
       "    </tr>\n",
       "    <tr>\n",
       "      <th>3896</th>\n",
       "      <td>VHL12909</td>\n",
       "      <td>Abuja</td>\n",
       "      <td>Honda</td>\n",
       "      <td>Civic Sedan EX</td>\n",
       "      <td>2,013</td>\n",
       "      <td>Gray</td>\n",
       "      <td>3.30</td>\n",
       "      <td>Nigerian Used</td>\n",
       "      <td>82,547</td>\n",
       "    </tr>\n",
       "    <tr>\n",
       "      <th>4540</th>\n",
       "      <td>VHL13106</td>\n",
       "      <td>Abuja</td>\n",
       "      <td>Mercedes-Benz</td>\n",
       "      <td>GLK-Class</td>\n",
       "      <td>2,009</td>\n",
       "      <td>Red</td>\n",
       "      <td>6.70</td>\n",
       "      <td>Foreign Used</td>\n",
       "      <td>NaN</td>\n",
       "    </tr>\n",
       "    <tr>\n",
       "      <th>4284</th>\n",
       "      <td>VHL10677</td>\n",
       "      <td>Lagos</td>\n",
       "      <td>Mercedes-Benz</td>\n",
       "      <td>M Class ML 350 4Matic</td>\n",
       "      <td>2,012</td>\n",
       "      <td>Gray</td>\n",
       "      <td>11.65</td>\n",
       "      <td>Foreign Used</td>\n",
       "      <td>NaN</td>\n",
       "    </tr>\n",
       "    <tr>\n",
       "      <th>6040</th>\n",
       "      <td>VHL15223</td>\n",
       "      <td>Ibadan</td>\n",
       "      <td>Toyota</td>\n",
       "      <td>Venza AWD</td>\n",
       "      <td>2,011</td>\n",
       "      <td>Gray</td>\n",
       "      <td>5.85</td>\n",
       "      <td>Nigerian Used</td>\n",
       "      <td>66,525</td>\n",
       "    </tr>\n",
       "    <tr>\n",
       "      <th>2704</th>\n",
       "      <td>VHL12860</td>\n",
       "      <td>Lagos</td>\n",
       "      <td>Toyota</td>\n",
       "      <td>Camry 2.4 LE</td>\n",
       "      <td>2,008</td>\n",
       "      <td>Black</td>\n",
       "      <td>4.10</td>\n",
       "      <td>Foreign Used</td>\n",
       "      <td>NaN</td>\n",
       "    </tr>\n",
       "    <tr>\n",
       "      <th>4026</th>\n",
       "      <td>VHL14563</td>\n",
       "      <td>Lagos</td>\n",
       "      <td>Land Rover</td>\n",
       "      <td>Range Rover</td>\n",
       "      <td>2,018</td>\n",
       "      <td>Black</td>\n",
       "      <td>45.00</td>\n",
       "      <td>Foreign Used</td>\n",
       "      <td>30,092</td>\n",
       "    </tr>\n",
       "  </tbody>\n",
       "</table>\n",
       "</div>"
      ],
      "text/plain": [
       "     VehicleID Location          Maker                      Model   Year  \\\n",
       "3328  VHL14620    Abuja          Lexus                     RX 350  2,009   \n",
       "2669  VHL18876    Abuja           Ford                       Edge  2,015   \n",
       "1109  VHL14966    Lagos  Mercedes-Benz      M Class ML 350 4Matic  2,011   \n",
       "1915  VHL15126    Abuja         Toyota  Camry XSE V6 (3.5L V6 8A)  2,019   \n",
       "3896  VHL12909    Abuja          Honda             Civic Sedan EX  2,013   \n",
       "4540  VHL13106    Abuja  Mercedes-Benz                  GLK-Class  2,009   \n",
       "4284  VHL10677    Lagos  Mercedes-Benz      M Class ML 350 4Matic  2,012   \n",
       "6040  VHL15223   Ibadan         Toyota                  Venza AWD  2,011   \n",
       "2704  VHL12860    Lagos         Toyota               Camry 2.4 LE  2,008   \n",
       "4026  VHL14563    Lagos     Land Rover                Range Rover  2,018   \n",
       "\n",
       "     Colour  Amount (Million Naira)           Type Distance  \n",
       "3328  Black                    5.63  Nigerian Used   80,188  \n",
       "2669   Blue                    9.90   Foreign Used   31,594  \n",
       "1109  White                    6.75   Foreign Used      NaN  \n",
       "1915  White                   16.00   Foreign Used      NaN  \n",
       "3896   Gray                    3.30  Nigerian Used   82,547  \n",
       "4540    Red                    6.70   Foreign Used      NaN  \n",
       "4284   Gray                   11.65   Foreign Used      NaN  \n",
       "6040   Gray                    5.85  Nigerian Used   66,525  \n",
       "2704  Black                    4.10   Foreign Used      NaN  \n",
       "4026  Black                   45.00   Foreign Used   30,092  "
      ]
     },
     "execution_count": 2,
     "metadata": {},
     "output_type": "execute_result"
    }
   ],
   "source": [
    "# Loading train data\n",
    "train = pd.read_csv(\"Train.csv\")\n",
    "train.sample(10)"
   ]
  },
  {
   "cell_type": "markdown",
   "id": "156d2f1d",
   "metadata": {},
   "source": [
    "### Exploratory Data Analysis"
   ]
  },
  {
   "cell_type": "code",
   "execution_count": 3,
   "id": "3f41a921-bc5e-45b8-8dcf-32d25adf6c39",
   "metadata": {},
   "outputs": [
    {
     "name": "stdout",
     "output_type": "stream",
     "text": [
      "We have 7205 rows and 9 columns\n"
     ]
    }
   ],
   "source": [
    "# this code describes the dataset available\n",
    "train.shape\n",
    "rows, columns = train.shape\n",
    "print(f'We have {rows} rows and {columns} columns')"
   ]
  },
  {
   "cell_type": "code",
   "execution_count": 4,
   "id": "0ae140e0-fca5-4774-a35a-7db96e855f4a",
   "metadata": {},
   "outputs": [
    {
     "data": {
      "text/plain": [
       "VehicleID                    0\n",
       "Location                     0\n",
       "Maker                        0\n",
       "Model                        0\n",
       "Year                        21\n",
       "Colour                       0\n",
       "Amount (Million Naira)      17\n",
       "Type                       197\n",
       "Distance                  2360\n",
       "dtype: int64"
      ]
     },
     "execution_count": 4,
     "metadata": {},
     "output_type": "execute_result"
    }
   ],
   "source": [
    "# this code returns instances with null value\n",
    "train.isnull().sum()"
   ]
  },
  {
   "cell_type": "code",
   "execution_count": 5,
   "id": "de0f0196-21ea-4d52-9bed-638e66e87c8a",
   "metadata": {},
   "outputs": [
    {
     "name": "stdout",
     "output_type": "stream",
     "text": [
      "<class 'pandas.core.frame.DataFrame'>\n",
      "RangeIndex: 7205 entries, 0 to 7204\n",
      "Data columns (total 9 columns):\n",
      " #   Column                  Non-Null Count  Dtype  \n",
      "---  ------                  --------------  -----  \n",
      " 0   VehicleID               7205 non-null   object \n",
      " 1   Location                7205 non-null   object \n",
      " 2   Maker                   7205 non-null   object \n",
      " 3   Model                   7205 non-null   object \n",
      " 4   Year                    7184 non-null   object \n",
      " 5   Colour                  7205 non-null   object \n",
      " 6   Amount (Million Naira)  7188 non-null   float64\n",
      " 7   Type                    7008 non-null   object \n",
      " 8   Distance                4845 non-null   object \n",
      "dtypes: float64(1), object(8)\n",
      "memory usage: 506.7+ KB\n"
     ]
    }
   ],
   "source": [
    "# returns data on the datatypes and non-null count in the dataset\n",
    "train.info()"
   ]
  },
  {
   "cell_type": "markdown",
   "id": "106383cb",
   "metadata": {},
   "source": [
    "## Feature Engineering"
   ]
  },
  {
   "cell_type": "code",
   "execution_count": 6,
   "id": "01f95cd6-9539-415e-9065-10d34708c4a8",
   "metadata": {
    "tags": []
   },
   "outputs": [
    {
     "data": {
      "text/html": [
       "<div>\n",
       "<style scoped>\n",
       "    .dataframe tbody tr th:only-of-type {\n",
       "        vertical-align: middle;\n",
       "    }\n",
       "\n",
       "    .dataframe tbody tr th {\n",
       "        vertical-align: top;\n",
       "    }\n",
       "\n",
       "    .dataframe thead th {\n",
       "        text-align: right;\n",
       "    }\n",
       "</style>\n",
       "<table border=\"1\" class=\"dataframe\">\n",
       "  <thead>\n",
       "    <tr style=\"text-align: right;\">\n",
       "      <th></th>\n",
       "      <th>Location</th>\n",
       "      <th>Maker</th>\n",
       "      <th>Model</th>\n",
       "      <th>Year</th>\n",
       "      <th>Type</th>\n",
       "      <th>Amount (Million Naira)</th>\n",
       "      <th>Colour</th>\n",
       "    </tr>\n",
       "  </thead>\n",
       "  <tbody>\n",
       "    <tr>\n",
       "      <th>0</th>\n",
       "      <td>Abuja</td>\n",
       "      <td>Honda</td>\n",
       "      <td>Accord Coupe EX V-6</td>\n",
       "      <td>2,011</td>\n",
       "      <td>Nigerian Used</td>\n",
       "      <td>2.2</td>\n",
       "      <td>Silver</td>\n",
       "    </tr>\n",
       "    <tr>\n",
       "      <th>1</th>\n",
       "      <td>Ibadan</td>\n",
       "      <td>Hyundai</td>\n",
       "      <td>Sonata</td>\n",
       "      <td>2,012</td>\n",
       "      <td>Nigerian Used</td>\n",
       "      <td>3.5</td>\n",
       "      <td>Silver</td>\n",
       "    </tr>\n",
       "    <tr>\n",
       "      <th>2</th>\n",
       "      <td>Lagos</td>\n",
       "      <td>Lexus</td>\n",
       "      <td>RX 350</td>\n",
       "      <td>2,010</td>\n",
       "      <td>Foreign Used</td>\n",
       "      <td>9.2</td>\n",
       "      <td>Red</td>\n",
       "    </tr>\n",
       "    <tr>\n",
       "      <th>3</th>\n",
       "      <td>Abuja</td>\n",
       "      <td>Mercedes-Benz</td>\n",
       "      <td>GLE-Class</td>\n",
       "      <td>2,017</td>\n",
       "      <td>Foreign Used</td>\n",
       "      <td>22.8</td>\n",
       "      <td>Blue</td>\n",
       "    </tr>\n",
       "    <tr>\n",
       "      <th>4</th>\n",
       "      <td>Ibadan</td>\n",
       "      <td>Toyota</td>\n",
       "      <td>Highlander</td>\n",
       "      <td>2,002</td>\n",
       "      <td>Nigerian Used</td>\n",
       "      <td>2.6</td>\n",
       "      <td>Red</td>\n",
       "    </tr>\n",
       "  </tbody>\n",
       "</table>\n",
       "</div>"
      ],
      "text/plain": [
       "  Location          Maker                Model   Year           Type  \\\n",
       "0    Abuja          Honda  Accord Coupe EX V-6  2,011  Nigerian Used   \n",
       "1   Ibadan        Hyundai               Sonata  2,012  Nigerian Used   \n",
       "2    Lagos          Lexus               RX 350  2,010   Foreign Used   \n",
       "3    Abuja  Mercedes-Benz            GLE-Class  2,017   Foreign Used   \n",
       "4   Ibadan         Toyota           Highlander  2,002  Nigerian Used   \n",
       "\n",
       "   Amount (Million Naira)  Colour  \n",
       "0                     2.2  Silver  \n",
       "1                     3.5  Silver  \n",
       "2                     9.2     Red  \n",
       "3                    22.8    Blue  \n",
       "4                     2.6     Red  "
      ]
     },
     "execution_count": 6,
     "metadata": {},
     "output_type": "execute_result"
    }
   ],
   "source": [
    "# eliminates irrelevant features from the dataset\n",
    "train_red = train[['Location','Maker','Model','Year','Type','Amount (Million Naira)','Colour']]\n",
    "train_red.head()"
   ]
  },
  {
   "cell_type": "code",
   "execution_count": 7,
   "id": "17ee780c-bb63-4088-a5a4-b3aaee4d55f4",
   "metadata": {},
   "outputs": [
    {
     "data": {
      "text/plain": [
       "Location                  False\n",
       "Maker                     False\n",
       "Model                     False\n",
       "Year                      False\n",
       "Type                      False\n",
       "Amount (Million Naira)    False\n",
       "Colour                    False\n",
       "dtype: bool"
      ]
     },
     "execution_count": 7,
     "metadata": {},
     "output_type": "execute_result"
    }
   ],
   "source": [
    "# This code drops the null values in a dataset\n",
    "train_red.dropna(inplace=True)\n",
    "# tells you if any value is null in the dataset. 'train_red.isna().sum()' returns the number of instances with null values\n",
    "train_red.isna().any()"
   ]
  },
  {
   "cell_type": "code",
   "execution_count": 8,
   "id": "15e9b20f-1dfc-442c-9b63-cf4b79708e06",
   "metadata": {},
   "outputs": [
    {
     "name": "stdout",
     "output_type": "stream",
     "text": [
      "Location has 3  unique features\n",
      "Maker has 54  unique features\n",
      "Model has 1180  unique features\n",
      "Year has 33  unique features\n",
      "Type has 3  unique features\n",
      "Amount (Million Naira) has 679  unique features\n",
      "Colour has 19  unique features\n"
     ]
    }
   ],
   "source": [
    "# this returns the number of unique values for each feature\n",
    "for column in train_red.columns:\n",
    "    print(column, 'has', train_red[column].nunique(),' unique features')"
   ]
  },
  {
   "cell_type": "markdown",
   "id": "4f3046ae",
   "metadata": {},
   "source": [
    "## Data Processing"
   ]
  },
  {
   "cell_type": "code",
   "execution_count": 9,
   "id": "ec198acb",
   "metadata": {},
   "outputs": [],
   "source": [
    "# sklearn contains ML algorithms necessary for ML operations so we are importing various tools from the library\n",
    "from sklearn.feature_extraction.text import CountVectorizer\n",
    "from sklearn.model_selection import train_test_split,KFold\n",
    "from sklearn.preprocessing import LabelEncoder,PolynomialFeatures\n",
    "from sklearn.preprocessing import MinMaxScaler\n",
    "from sklearn.model_selection import train_test_split\n",
    "from sklearn.model_selection import StratifiedShuffleSplit"
   ]
  },
  {
   "cell_type": "code",
   "execution_count": 10,
   "id": "be523cae-ef04-481c-b367-2cec12acf351",
   "metadata": {},
   "outputs": [
    {
     "name": "stdout",
     "output_type": "stream",
     "text": [
      "<class 'pandas.core.frame.DataFrame'>\n",
      "Int64Index: 6972 entries, 0 to 7204\n",
      "Data columns (total 7 columns):\n",
      " #   Column                  Non-Null Count  Dtype  \n",
      "---  ------                  --------------  -----  \n",
      " 0   Location                6972 non-null   object \n",
      " 1   Maker                   6972 non-null   object \n",
      " 2   Model                   6972 non-null   object \n",
      " 3   Year                    6972 non-null   object \n",
      " 4   Type                    6972 non-null   object \n",
      " 5   Amount (Million Naira)  6972 non-null   float64\n",
      " 6   Colour                  6972 non-null   object \n",
      "dtypes: float64(1), object(6)\n",
      "memory usage: 435.8+ KB\n"
     ]
    }
   ],
   "source": [
    "train_red.info()"
   ]
  },
  {
   "cell_type": "code",
   "execution_count": 11,
   "id": "36336338",
   "metadata": {},
   "outputs": [],
   "source": [
    "cat_col = ['Maker', 'Model', 'Type', 'Colour']\n",
    "\n",
    "for col in cat_col:\n",
    "    lab = LabelEncoder()#CountEncoder(normalize=True)\n",
    "    lab.fit(train_red[col])\n",
    "    train_red[col] = lab.transform(train_red[col])"
   ]
  },
  {
   "cell_type": "code",
   "execution_count": 12,
   "id": "b169e595",
   "metadata": {},
   "outputs": [],
   "source": [
    "# replace the comma in the Year colum with blank\n",
    "train_red['Year'] = train_red['Year'].str.replace(',', '')"
   ]
  },
  {
   "cell_type": "code",
   "execution_count": 13,
   "id": "e3ac4082",
   "metadata": {},
   "outputs": [],
   "source": [
    "train_red['Year'] = pd.to_numeric(train_red['Year'])"
   ]
  },
  {
   "cell_type": "code",
   "execution_count": 14,
   "id": "0af54e72-6bd7-489f-9a72-1a16243e4234",
   "metadata": {},
   "outputs": [
    {
     "name": "stdout",
     "output_type": "stream",
     "text": [
      "<class 'pandas.core.frame.DataFrame'>\n",
      "Int64Index: 6972 entries, 0 to 7204\n",
      "Data columns (total 7 columns):\n",
      " #   Column                  Non-Null Count  Dtype  \n",
      "---  ------                  --------------  -----  \n",
      " 0   Location                6972 non-null   object \n",
      " 1   Maker                   6972 non-null   int32  \n",
      " 2   Model                   6972 non-null   int32  \n",
      " 3   Year                    6972 non-null   int64  \n",
      " 4   Type                    6972 non-null   int32  \n",
      " 5   Amount (Million Naira)  6972 non-null   float64\n",
      " 6   Colour                  6972 non-null   int32  \n",
      "dtypes: float64(1), int32(4), int64(1), object(1)\n",
      "memory usage: 326.8+ KB\n"
     ]
    }
   ],
   "source": [
    "train_red.info()"
   ]
  },
  {
   "cell_type": "code",
   "execution_count": 15,
   "id": "0fc49a70-7ba5-4f40-9073-3719fe7d8c48",
   "metadata": {},
   "outputs": [
    {
     "data": {
      "text/html": [
       "<div>\n",
       "<style scoped>\n",
       "    .dataframe tbody tr th:only-of-type {\n",
       "        vertical-align: middle;\n",
       "    }\n",
       "\n",
       "    .dataframe tbody tr th {\n",
       "        vertical-align: top;\n",
       "    }\n",
       "\n",
       "    .dataframe thead th {\n",
       "        text-align: right;\n",
       "    }\n",
       "</style>\n",
       "<table border=\"1\" class=\"dataframe\">\n",
       "  <thead>\n",
       "    <tr style=\"text-align: right;\">\n",
       "      <th></th>\n",
       "      <th>Ibadan</th>\n",
       "      <th>Lagos</th>\n",
       "    </tr>\n",
       "  </thead>\n",
       "  <tbody>\n",
       "    <tr>\n",
       "      <th>0</th>\n",
       "      <td>0</td>\n",
       "      <td>0</td>\n",
       "    </tr>\n",
       "    <tr>\n",
       "      <th>1</th>\n",
       "      <td>1</td>\n",
       "      <td>0</td>\n",
       "    </tr>\n",
       "    <tr>\n",
       "      <th>2</th>\n",
       "      <td>0</td>\n",
       "      <td>1</td>\n",
       "    </tr>\n",
       "    <tr>\n",
       "      <th>3</th>\n",
       "      <td>0</td>\n",
       "      <td>0</td>\n",
       "    </tr>\n",
       "    <tr>\n",
       "      <th>4</th>\n",
       "      <td>1</td>\n",
       "      <td>0</td>\n",
       "    </tr>\n",
       "  </tbody>\n",
       "</table>\n",
       "</div>"
      ],
      "text/plain": [
       "   Ibadan  Lagos\n",
       "0       0      0\n",
       "1       1      0\n",
       "2       0      1\n",
       "3       0      0\n",
       "4       1      0"
      ]
     },
     "execution_count": 15,
     "metadata": {},
     "output_type": "execute_result"
    }
   ],
   "source": [
    "# dummy encoding\n",
    "Locat = pd.get_dummies(train_red['Location'], drop_first=True)\n",
    "Locat.head()"
   ]
  },
  {
   "cell_type": "code",
   "execution_count": 16,
   "id": "945a48fc-ce59-49a2-8a8b-079c1fe5e872",
   "metadata": {},
   "outputs": [
    {
     "data": {
      "text/html": [
       "<div>\n",
       "<style scoped>\n",
       "    .dataframe tbody tr th:only-of-type {\n",
       "        vertical-align: middle;\n",
       "    }\n",
       "\n",
       "    .dataframe tbody tr th {\n",
       "        vertical-align: top;\n",
       "    }\n",
       "\n",
       "    .dataframe thead th {\n",
       "        text-align: right;\n",
       "    }\n",
       "</style>\n",
       "<table border=\"1\" class=\"dataframe\">\n",
       "  <thead>\n",
       "    <tr style=\"text-align: right;\">\n",
       "      <th></th>\n",
       "      <th>Location</th>\n",
       "      <th>Maker</th>\n",
       "      <th>Model</th>\n",
       "      <th>Year</th>\n",
       "      <th>Type</th>\n",
       "      <th>Amount (Million Naira)</th>\n",
       "      <th>Colour</th>\n",
       "    </tr>\n",
       "  </thead>\n",
       "  <tbody>\n",
       "    <tr>\n",
       "      <th>0</th>\n",
       "      <td>Abuja</td>\n",
       "      <td>16</td>\n",
       "      <td>116</td>\n",
       "      <td>2011</td>\n",
       "      <td>2</td>\n",
       "      <td>2.2</td>\n",
       "      <td>15</td>\n",
       "    </tr>\n",
       "    <tr>\n",
       "      <th>1</th>\n",
       "      <td>Ibadan</td>\n",
       "      <td>18</td>\n",
       "      <td>1019</td>\n",
       "      <td>2012</td>\n",
       "      <td>2</td>\n",
       "      <td>3.5</td>\n",
       "      <td>15</td>\n",
       "    </tr>\n",
       "    <tr>\n",
       "      <th>2</th>\n",
       "      <td>Lagos</td>\n",
       "      <td>28</td>\n",
       "      <td>881</td>\n",
       "      <td>2010</td>\n",
       "      <td>1</td>\n",
       "      <td>9.2</td>\n",
       "      <td>14</td>\n",
       "    </tr>\n",
       "    <tr>\n",
       "      <th>3</th>\n",
       "      <td>Abuja</td>\n",
       "      <td>33</td>\n",
       "      <td>490</td>\n",
       "      <td>2017</td>\n",
       "      <td>1</td>\n",
       "      <td>22.8</td>\n",
       "      <td>2</td>\n",
       "    </tr>\n",
       "    <tr>\n",
       "      <th>4</th>\n",
       "      <td>Ibadan</td>\n",
       "      <td>51</td>\n",
       "      <td>548</td>\n",
       "      <td>2002</td>\n",
       "      <td>2</td>\n",
       "      <td>2.6</td>\n",
       "      <td>14</td>\n",
       "    </tr>\n",
       "  </tbody>\n",
       "</table>\n",
       "</div>"
      ],
      "text/plain": [
       "  Location  Maker  Model  Year  Type  Amount (Million Naira)  Colour\n",
       "0    Abuja     16    116  2011     2                     2.2      15\n",
       "1   Ibadan     18   1019  2012     2                     3.5      15\n",
       "2    Lagos     28    881  2010     1                     9.2      14\n",
       "3    Abuja     33    490  2017     1                    22.8       2\n",
       "4   Ibadan     51    548  2002     2                     2.6      14"
      ]
     },
     "execution_count": 16,
     "metadata": {},
     "output_type": "execute_result"
    }
   ],
   "source": [
    "train_red.head()"
   ]
  },
  {
   "cell_type": "code",
   "execution_count": 17,
   "id": "6ef41102-f8dc-41e3-802b-8cdf5bddd6fa",
   "metadata": {},
   "outputs": [
    {
     "data": {
      "text/html": [
       "<div>\n",
       "<style scoped>\n",
       "    .dataframe tbody tr th:only-of-type {\n",
       "        vertical-align: middle;\n",
       "    }\n",
       "\n",
       "    .dataframe tbody tr th {\n",
       "        vertical-align: top;\n",
       "    }\n",
       "\n",
       "    .dataframe thead th {\n",
       "        text-align: right;\n",
       "    }\n",
       "</style>\n",
       "<table border=\"1\" class=\"dataframe\">\n",
       "  <thead>\n",
       "    <tr style=\"text-align: right;\">\n",
       "      <th></th>\n",
       "      <th>Maker</th>\n",
       "      <th>Model</th>\n",
       "      <th>Year</th>\n",
       "      <th>Type</th>\n",
       "      <th>Amount (Million Naira)</th>\n",
       "      <th>Colour</th>\n",
       "      <th>Ibadan</th>\n",
       "      <th>Lagos</th>\n",
       "    </tr>\n",
       "  </thead>\n",
       "  <tbody>\n",
       "    <tr>\n",
       "      <th>6764</th>\n",
       "      <td>33</td>\n",
       "      <td>90</td>\n",
       "      <td>2019</td>\n",
       "      <td>1</td>\n",
       "      <td>150.00</td>\n",
       "      <td>17</td>\n",
       "      <td>0</td>\n",
       "      <td>0</td>\n",
       "    </tr>\n",
       "    <tr>\n",
       "      <th>641</th>\n",
       "      <td>33</td>\n",
       "      <td>479</td>\n",
       "      <td>2016</td>\n",
       "      <td>1</td>\n",
       "      <td>35.00</td>\n",
       "      <td>17</td>\n",
       "      <td>0</td>\n",
       "      <td>1</td>\n",
       "    </tr>\n",
       "    <tr>\n",
       "      <th>3928</th>\n",
       "      <td>33</td>\n",
       "      <td>210</td>\n",
       "      <td>2010</td>\n",
       "      <td>1</td>\n",
       "      <td>4.10</td>\n",
       "      <td>1</td>\n",
       "      <td>0</td>\n",
       "      <td>0</td>\n",
       "    </tr>\n",
       "    <tr>\n",
       "      <th>245</th>\n",
       "      <td>28</td>\n",
       "      <td>881</td>\n",
       "      <td>2010</td>\n",
       "      <td>1</td>\n",
       "      <td>8.80</td>\n",
       "      <td>7</td>\n",
       "      <td>0</td>\n",
       "      <td>1</td>\n",
       "    </tr>\n",
       "    <tr>\n",
       "      <th>1687</th>\n",
       "      <td>28</td>\n",
       "      <td>881</td>\n",
       "      <td>2010</td>\n",
       "      <td>1</td>\n",
       "      <td>8.10</td>\n",
       "      <td>15</td>\n",
       "      <td>0</td>\n",
       "      <td>0</td>\n",
       "    </tr>\n",
       "    <tr>\n",
       "      <th>6594</th>\n",
       "      <td>0</td>\n",
       "      <td>868</td>\n",
       "      <td>2016</td>\n",
       "      <td>1</td>\n",
       "      <td>9.20</td>\n",
       "      <td>17</td>\n",
       "      <td>0</td>\n",
       "      <td>1</td>\n",
       "    </tr>\n",
       "    <tr>\n",
       "      <th>4337</th>\n",
       "      <td>23</td>\n",
       "      <td>704</td>\n",
       "      <td>2005</td>\n",
       "      <td>2</td>\n",
       "      <td>1.45</td>\n",
       "      <td>7</td>\n",
       "      <td>0</td>\n",
       "      <td>0</td>\n",
       "    </tr>\n",
       "    <tr>\n",
       "      <th>6281</th>\n",
       "      <td>28</td>\n",
       "      <td>881</td>\n",
       "      <td>2007</td>\n",
       "      <td>2</td>\n",
       "      <td>3.60</td>\n",
       "      <td>7</td>\n",
       "      <td>0</td>\n",
       "      <td>0</td>\n",
       "    </tr>\n",
       "    <tr>\n",
       "      <th>2297</th>\n",
       "      <td>51</td>\n",
       "      <td>1098</td>\n",
       "      <td>2014</td>\n",
       "      <td>1</td>\n",
       "      <td>11.50</td>\n",
       "      <td>1</td>\n",
       "      <td>0</td>\n",
       "      <td>1</td>\n",
       "    </tr>\n",
       "    <tr>\n",
       "      <th>4686</th>\n",
       "      <td>51</td>\n",
       "      <td>342</td>\n",
       "      <td>2006</td>\n",
       "      <td>1</td>\n",
       "      <td>3.00</td>\n",
       "      <td>17</td>\n",
       "      <td>0</td>\n",
       "      <td>0</td>\n",
       "    </tr>\n",
       "  </tbody>\n",
       "</table>\n",
       "</div>"
      ],
      "text/plain": [
       "      Maker  Model  Year  Type  Amount (Million Naira)  Colour  Ibadan  Lagos\n",
       "6764     33     90  2019     1                  150.00      17       0      0\n",
       "641      33    479  2016     1                   35.00      17       0      1\n",
       "3928     33    210  2010     1                    4.10       1       0      0\n",
       "245      28    881  2010     1                    8.80       7       0      1\n",
       "1687     28    881  2010     1                    8.10      15       0      0\n",
       "6594      0    868  2016     1                    9.20      17       0      1\n",
       "4337     23    704  2005     2                    1.45       7       0      0\n",
       "6281     28    881  2007     2                    3.60       7       0      0\n",
       "2297     51   1098  2014     1                   11.50       1       0      1\n",
       "4686     51    342  2006     1                    3.00      17       0      0"
      ]
     },
     "execution_count": 17,
     "metadata": {},
     "output_type": "execute_result"
    }
   ],
   "source": [
    "all_data = pd.concat([train_red.drop('Location',axis=1), Locat], axis=1).reset_index(drop = True)\n",
    "all_data.sample(10)"
   ]
  },
  {
   "cell_type": "code",
   "execution_count": 18,
   "id": "9391cdb4-c7a9-4194-82d7-9db76d50929a",
   "metadata": {},
   "outputs": [
    {
     "name": "stdout",
     "output_type": "stream",
     "text": [
      "<class 'pandas.core.frame.DataFrame'>\n",
      "RangeIndex: 6972 entries, 0 to 6971\n",
      "Data columns (total 8 columns):\n",
      " #   Column                  Non-Null Count  Dtype  \n",
      "---  ------                  --------------  -----  \n",
      " 0   Maker                   6972 non-null   int32  \n",
      " 1   Model                   6972 non-null   int32  \n",
      " 2   Year                    6972 non-null   int64  \n",
      " 3   Type                    6972 non-null   int32  \n",
      " 4   Amount (Million Naira)  6972 non-null   float64\n",
      " 5   Colour                  6972 non-null   int32  \n",
      " 6   Ibadan                  6972 non-null   uint8  \n",
      " 7   Lagos                   6972 non-null   uint8  \n",
      "dtypes: float64(1), int32(4), int64(1), uint8(2)\n",
      "memory usage: 231.6 KB\n"
     ]
    }
   ],
   "source": [
    "all_data.info()"
   ]
  },
  {
   "cell_type": "code",
   "execution_count": 19,
   "id": "7324ac94-ad0c-4f7e-976b-42542f373752",
   "metadata": {},
   "outputs": [
    {
     "data": {
      "text/plain": [
       "Maker                     0\n",
       "Model                     0\n",
       "Year                      0\n",
       "Type                      0\n",
       "Amount (Million Naira)    0\n",
       "Colour                    0\n",
       "Ibadan                    0\n",
       "Lagos                     0\n",
       "dtype: int64"
      ]
     },
     "execution_count": 19,
     "metadata": {},
     "output_type": "execute_result"
    }
   ],
   "source": [
    "all_data.isnull().sum()\n",
    "#to check if there is any null value in the data set"
   ]
  },
  {
   "cell_type": "code",
   "execution_count": 20,
   "id": "14c436b3-730d-42ed-a0b3-b884fe3fe03b",
   "metadata": {},
   "outputs": [],
   "source": [
    "Features = all_data.drop('Amount (Million Naira)', axis=1)\n",
    "Target = all_data['Amount (Million Naira)']\n",
    "X = Features\n",
    "Y = Target"
   ]
  },
  {
   "cell_type": "code",
   "execution_count": 21,
   "id": "c3fee77c-c40a-4bef-92bc-17760548fdb8",
   "metadata": {},
   "outputs": [
    {
     "name": "stdout",
     "output_type": "stream",
     "text": [
      "   Maker  Model  Year  Type  Colour  Ibadan  Lagos\n",
      "0     16    116  2011     2      15       0      0\n",
      "1     18   1019  2012     2      15       1      0\n",
      "2     28    881  2010     1      14       0      1\n",
      "3     33    490  2017     1       2       0      0\n",
      "4     51    548  2002     2      14       1      0\n"
     ]
    }
   ],
   "source": [
    "print(X.head())"
   ]
  },
  {
   "cell_type": "code",
   "execution_count": 22,
   "id": "d2524940-deeb-43c2-850b-3ca18589ac4c",
   "metadata": {},
   "outputs": [
    {
     "name": "stdout",
     "output_type": "stream",
     "text": [
      "0     2.2\n",
      "1     3.5\n",
      "2     9.2\n",
      "3    22.8\n",
      "4     2.6\n",
      "Name: Amount (Million Naira), dtype: float64\n"
     ]
    }
   ],
   "source": [
    "print(Y.head())"
   ]
  },
  {
   "cell_type": "code",
   "execution_count": 23,
   "id": "8c2e80f5-1487-4722-9d11-db44447d9f25",
   "metadata": {},
   "outputs": [],
   "source": [
    "random_state = 42\n",
    "X_train, X_test, Y_train, Y_test = train_test_split(X, Y, test_size=0.2, random_state=random_state)"
   ]
  },
  {
   "cell_type": "markdown",
   "id": "6796e442",
   "metadata": {},
   "source": [
    "## Modelling"
   ]
  },
  {
   "cell_type": "code",
   "execution_count": 24,
   "id": "ca2f9688",
   "metadata": {},
   "outputs": [],
   "source": [
    "from sklearn.tree import DecisionTreeRegressor\n",
    "from sklearn.ensemble import RandomForestRegressor\n",
    "from sklearn.linear_model import LinearRegression"
   ]
  },
  {
   "cell_type": "code",
   "execution_count": 25,
   "id": "5abef735-e8df-4309-a4bc-a7b536c42cbc",
   "metadata": {},
   "outputs": [
    {
     "name": "stdout",
     "output_type": "stream",
     "text": [
      "The accuracy of the model is 0.26890330797940276\n"
     ]
    }
   ],
   "source": [
    "model = LinearRegression()\n",
    "model.fit(X_train, Y_train)\n",
    "Accuracy=model.score(X_test, Y_test)\n",
    "print(f\"The accuracy of the model is {Accuracy}\")"
   ]
  },
  {
   "cell_type": "code",
   "execution_count": 26,
   "id": "b3ae1903-b641-44db-a62d-6e84efb5679c",
   "metadata": {},
   "outputs": [
    {
     "name": "stdout",
     "output_type": "stream",
     "text": [
      "The accuracy of the model is 0.7635441361154418\n"
     ]
    }
   ],
   "source": [
    "model_2 = DecisionTreeRegressor()\n",
    "model_2.fit(X_train, Y_train)\n",
    "Accuracy_2=model_2.score(X_test, Y_test)\n",
    "print(f\"The accuracy of the model is {Accuracy_2}\")"
   ]
  },
  {
   "cell_type": "code",
   "execution_count": 27,
   "id": "559b0fff-0950-42bf-93dc-438d3e711964",
   "metadata": {},
   "outputs": [
    {
     "name": "stdout",
     "output_type": "stream",
     "text": [
      "The accuracy of the model is 0.7925638674656927\n"
     ]
    }
   ],
   "source": [
    "model_3 = RandomForestRegressor()\n",
    "model_3.fit(X_train, Y_train)\n",
    "Accuracy_3=model_3.score(X_test, Y_test)\n",
    "print(f\"The accuracy of the model is {Accuracy_3}\")"
   ]
  },
  {
   "cell_type": "markdown",
   "id": "90bf36a6",
   "metadata": {},
   "source": [
    "## Marketing Prediction"
   ]
  },
  {
   "cell_type": "code",
   "execution_count": 28,
   "id": "59cf2f1a-2aa2-4330-99ce-e4c212e30e91",
   "metadata": {},
   "outputs": [
    {
     "data": {
      "text/html": [
       "<div>\n",
       "<style scoped>\n",
       "    .dataframe tbody tr th:only-of-type {\n",
       "        vertical-align: middle;\n",
       "    }\n",
       "\n",
       "    .dataframe tbody tr th {\n",
       "        vertical-align: top;\n",
       "    }\n",
       "\n",
       "    .dataframe thead th {\n",
       "        text-align: right;\n",
       "    }\n",
       "</style>\n",
       "<table border=\"1\" class=\"dataframe\">\n",
       "  <thead>\n",
       "    <tr style=\"text-align: right;\">\n",
       "      <th></th>\n",
       "      <th>Maker</th>\n",
       "      <th>Model</th>\n",
       "      <th>Year</th>\n",
       "      <th>Type</th>\n",
       "      <th>Colour</th>\n",
       "      <th>Ibadan</th>\n",
       "      <th>Lagos</th>\n",
       "    </tr>\n",
       "  </thead>\n",
       "  <tbody>\n",
       "    <tr>\n",
       "      <th>132</th>\n",
       "      <td>28</td>\n",
       "      <td>881</td>\n",
       "      <td>2010</td>\n",
       "      <td>1</td>\n",
       "      <td>7</td>\n",
       "      <td>1</td>\n",
       "      <td>0</td>\n",
       "    </tr>\n",
       "    <tr>\n",
       "      <th>5571</th>\n",
       "      <td>16</td>\n",
       "      <td>115</td>\n",
       "      <td>2003</td>\n",
       "      <td>2</td>\n",
       "      <td>8</td>\n",
       "      <td>0</td>\n",
       "      <td>1</td>\n",
       "    </tr>\n",
       "    <tr>\n",
       "      <th>2168</th>\n",
       "      <td>16</td>\n",
       "      <td>97</td>\n",
       "      <td>2010</td>\n",
       "      <td>2</td>\n",
       "      <td>2</td>\n",
       "      <td>0</td>\n",
       "      <td>0</td>\n",
       "    </tr>\n",
       "    <tr>\n",
       "      <th>4086</th>\n",
       "      <td>32</td>\n",
       "      <td>252</td>\n",
       "      <td>2014</td>\n",
       "      <td>2</td>\n",
       "      <td>1</td>\n",
       "      <td>0</td>\n",
       "      <td>0</td>\n",
       "    </tr>\n",
       "    <tr>\n",
       "      <th>4787</th>\n",
       "      <td>51</td>\n",
       "      <td>547</td>\n",
       "      <td>2010</td>\n",
       "      <td>2</td>\n",
       "      <td>17</td>\n",
       "      <td>0</td>\n",
       "      <td>1</td>\n",
       "    </tr>\n",
       "  </tbody>\n",
       "</table>\n",
       "</div>"
      ],
      "text/plain": [
       "      Maker  Model  Year  Type  Colour  Ibadan  Lagos\n",
       "132      28    881  2010     1       7       1      0\n",
       "5571     16    115  2003     2       8       0      1\n",
       "2168     16     97  2010     2       2       0      0\n",
       "4086     32    252  2014     2       1       0      0\n",
       "4787     51    547  2010     2      17       0      1"
      ]
     },
     "execution_count": 28,
     "metadata": {},
     "output_type": "execute_result"
    }
   ],
   "source": [
    "X_test.head()"
   ]
  },
  {
   "cell_type": "code",
   "execution_count": 29,
   "id": "6decd898-fe09-42d5-940a-c32c4e960aec",
   "metadata": {},
   "outputs": [
    {
     "data": {
      "text/plain": [
       "3909     5.50\n",
       "5957     3.26\n",
       "652     11.50\n",
       "33       2.40\n",
       "3078     3.35\n",
       "        ...  \n",
       "3772     6.00\n",
       "5191     1.24\n",
       "5226     2.25\n",
       "5390     7.50\n",
       "860     17.50\n",
       "Name: Amount (Million Naira), Length: 5577, dtype: float64"
      ]
     },
     "execution_count": 29,
     "metadata": {},
     "output_type": "execute_result"
    }
   ],
   "source": [
    "Y_train"
   ]
  },
  {
   "cell_type": "code",
   "execution_count": 30,
   "id": "7cd0da72-32c6-436c-9eb0-e37c0f79a33d",
   "metadata": {
    "tags": []
   },
   "outputs": [
    {
     "data": {
      "text/html": [
       "<div>\n",
       "<style scoped>\n",
       "    .dataframe tbody tr th:only-of-type {\n",
       "        vertical-align: middle;\n",
       "    }\n",
       "\n",
       "    .dataframe tbody tr th {\n",
       "        vertical-align: top;\n",
       "    }\n",
       "\n",
       "    .dataframe thead th {\n",
       "        text-align: right;\n",
       "    }\n",
       "</style>\n",
       "<table border=\"1\" class=\"dataframe\">\n",
       "  <thead>\n",
       "    <tr style=\"text-align: right;\">\n",
       "      <th></th>\n",
       "      <th>Location</th>\n",
       "      <th>Maker</th>\n",
       "      <th>Model</th>\n",
       "      <th>Year</th>\n",
       "      <th>Type</th>\n",
       "      <th>Amount (Million Naira)</th>\n",
       "      <th>Colour</th>\n",
       "    </tr>\n",
       "  </thead>\n",
       "  <tbody>\n",
       "    <tr>\n",
       "      <th>0</th>\n",
       "      <td>Abuja</td>\n",
       "      <td>16</td>\n",
       "      <td>116</td>\n",
       "      <td>2011</td>\n",
       "      <td>2</td>\n",
       "      <td>2.2</td>\n",
       "      <td>15</td>\n",
       "    </tr>\n",
       "    <tr>\n",
       "      <th>1</th>\n",
       "      <td>Ibadan</td>\n",
       "      <td>18</td>\n",
       "      <td>1019</td>\n",
       "      <td>2012</td>\n",
       "      <td>2</td>\n",
       "      <td>3.5</td>\n",
       "      <td>15</td>\n",
       "    </tr>\n",
       "    <tr>\n",
       "      <th>2</th>\n",
       "      <td>Lagos</td>\n",
       "      <td>28</td>\n",
       "      <td>881</td>\n",
       "      <td>2010</td>\n",
       "      <td>1</td>\n",
       "      <td>9.2</td>\n",
       "      <td>14</td>\n",
       "    </tr>\n",
       "    <tr>\n",
       "      <th>3</th>\n",
       "      <td>Abuja</td>\n",
       "      <td>33</td>\n",
       "      <td>490</td>\n",
       "      <td>2017</td>\n",
       "      <td>1</td>\n",
       "      <td>22.8</td>\n",
       "      <td>2</td>\n",
       "    </tr>\n",
       "    <tr>\n",
       "      <th>4</th>\n",
       "      <td>Ibadan</td>\n",
       "      <td>51</td>\n",
       "      <td>548</td>\n",
       "      <td>2002</td>\n",
       "      <td>2</td>\n",
       "      <td>2.6</td>\n",
       "      <td>14</td>\n",
       "    </tr>\n",
       "  </tbody>\n",
       "</table>\n",
       "</div>"
      ],
      "text/plain": [
       "  Location  Maker  Model  Year  Type  Amount (Million Naira)  Colour\n",
       "0    Abuja     16    116  2011     2                     2.2      15\n",
       "1   Ibadan     18   1019  2012     2                     3.5      15\n",
       "2    Lagos     28    881  2010     1                     9.2      14\n",
       "3    Abuja     33    490  2017     1                    22.8       2\n",
       "4   Ibadan     51    548  2002     2                     2.6      14"
      ]
     },
     "execution_count": 30,
     "metadata": {},
     "output_type": "execute_result"
    }
   ],
   "source": [
    "train_red.head()"
   ]
  },
  {
   "cell_type": "code",
   "execution_count": 31,
   "id": "eef4af99-5c1e-4b63-b357-6d7e1b3d583a",
   "metadata": {},
   "outputs": [
    {
     "name": "stdout",
     "output_type": "stream",
     "text": [
      "[2.2]\n"
     ]
    }
   ],
   "source": [
    "pred = model_2.predict(np.array([[16, 116, 2011, 2, 15, 0, 0]]))\n",
    "print(pred)"
   ]
  },
  {
   "cell_type": "code",
   "execution_count": 32,
   "id": "58399f24-ed27-47ce-8e81-12826a8c199d",
   "metadata": {},
   "outputs": [
    {
     "name": "stdout",
     "output_type": "stream",
     "text": [
      "[3.96421511]\n"
     ]
    }
   ],
   "source": [
    "pred = model.predict(np.array([[16, 116, 2011, 2, 15, 0, 0]]))\n",
    "print(pred)"
   ]
  },
  {
   "cell_type": "code",
   "execution_count": 33,
   "id": "1fad5a0b-4181-4688-b209-2edb716fc1ae",
   "metadata": {},
   "outputs": [
    {
     "name": "stdout",
     "output_type": "stream",
     "text": [
      "[2.4176]\n"
     ]
    }
   ],
   "source": [
    "pred = model_3.predict(np.array([[16, 116, 2011, 2, 15, 0, 0]]))\n",
    "print(pred)"
   ]
  },
  {
   "cell_type": "code",
   "execution_count": 34,
   "id": "d6668b5c-9521-44e4-b4bf-57592c14edea",
   "metadata": {},
   "outputs": [
    {
     "name": "stdout",
     "output_type": "stream",
     "text": [
      "The price of the car is [9.] million naira\n"
     ]
    }
   ],
   "source": [
    "pred = model_2.predict(np.array([[28, 881, 2010, 1, 9, 1, 0]]))\n",
    "print(f'The price of the car is {pred} million naira')"
   ]
  },
  {
   "cell_type": "markdown",
   "id": "d499a7b2-8a3b-4a4e-9dbb-c19153719f3d",
   "metadata": {},
   "source": [
    "## Saving the Model"
   ]
  },
  {
   "cell_type": "code",
   "execution_count": 35,
   "id": "5a08d55b-5084-4fdf-8aa4-ce49d61bbafb",
   "metadata": {},
   "outputs": [],
   "source": [
    "# pickle is for small models\n",
    "# Joblib is for larger models\n",
    "import pickle \n",
    "import joblib"
   ]
  },
  {
   "cell_type": "code",
   "execution_count": 36,
   "id": "dbbb5c33-55ad-4c5f-be4e-0ead78244440",
   "metadata": {},
   "outputs": [],
   "source": [
    "with open('model.pkl', 'wb') as model_file:\n",
    "    pickle.dump(model, model_file)"
   ]
  },
  {
   "cell_type": "code",
   "execution_count": 37,
   "id": "c0e24453-7128-47bb-9a81-8487b244ea1d",
   "metadata": {},
   "outputs": [],
   "source": [
    "# for pickle\n",
    "with open('model_2.pkl', 'rb') as model_file:\n",
    "    loaded_model = pickle.load(model_file)"
   ]
  },
  {
   "cell_type": "code",
   "execution_count": 38,
   "id": "656c799c-3d72-4e7b-8b68-832c59c440fa",
   "metadata": {
    "tags": []
   },
   "outputs": [
    {
     "ename": "NameError",
     "evalue": "name 'dump' is not defined",
     "output_type": "error",
     "traceback": [
      "\u001b[1;31m---------------------------------------------------------------------------\u001b[0m",
      "\u001b[1;31mNameError\u001b[0m                                 Traceback (most recent call last)",
      "Cell \u001b[1;32mIn[38], line 2\u001b[0m\n\u001b[0;32m      1\u001b[0m \u001b[38;5;66;03m# for joblib\u001b[39;00m\n\u001b[1;32m----> 2\u001b[0m \u001b[43mdump\u001b[49m(model_2, \u001b[38;5;124m'\u001b[39m\u001b[38;5;124mmodel_2.joblib\u001b[39m\u001b[38;5;124m'\u001b[39m)\n\u001b[0;32m      3\u001b[0m loaded \u001b[38;5;241m=\u001b[39m load(\u001b[38;5;124m'\u001b[39m\u001b[38;5;124mmodel_2.joblib\u001b[39m\u001b[38;5;124m'\u001b[39m)\n",
      "\u001b[1;31mNameError\u001b[0m: name 'dump' is not defined"
     ]
    }
   ],
   "source": [
    "# for joblib\n",
    "dump(model_2, 'model_2.joblib')\n",
    "loaded = load('model_2.joblib')"
   ]
  },
  {
   "cell_type": "markdown",
   "id": "aafe2525",
   "metadata": {},
   "source": [
    "## Conclusion"
   ]
  },
  {
   "cell_type": "code",
   "execution_count": null,
   "id": "f1568ac7",
   "metadata": {},
   "outputs": [],
   "source": []
  }
 ],
 "metadata": {
  "kernelspec": {
   "display_name": "Python 3 (ipykernel)",
   "language": "python",
   "name": "python3"
  },
  "language_info": {
   "codemirror_mode": {
    "name": "ipython",
    "version": 3
   },
   "file_extension": ".py",
   "mimetype": "text/x-python",
   "name": "python",
   "nbconvert_exporter": "python",
   "pygments_lexer": "ipython3",
   "version": "3.10.9"
  },
  "toc-showcode": false
 },
 "nbformat": 4,
 "nbformat_minor": 5
}
